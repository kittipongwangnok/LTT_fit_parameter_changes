{
 "cells": [
  {
   "cell_type": "code",
   "execution_count": 1,
   "id": "9a361c0c",
   "metadata": {},
   "outputs": [],
   "source": [
    "#https://pyastronomy.readthedocs.io/en/latest/pyaslDoc/aslDoc/keplerOrbit.html#keplerorbitpyasl\n",
    "from __future__ import print_function, division\n",
    "import numpy as np\n",
    "from PyAstronomy import pyasl\n",
    "import matplotlib.pylab as plt"
   ]
  },
  {
   "cell_type": "code",
   "execution_count": 2,
   "id": "bd3583e9",
   "metadata": {},
   "outputs": [],
   "source": [
    "# Instantiate a Keplerian elliptical orbit with\n",
    "# semi-major axis of 1.3 length units,\n",
    "# a period of 2 time units, eccentricity of 0.5,\n",
    "# longitude of ascending node of 70 degrees, an inclination\n",
    "# of 10 deg, and a periapsis argument of 110 deg.\n",
    "ke = pyasl.KeplerEllipse(1.3, 2., e=0.5, Omega=70., i=10.0, w=110.0)"
   ]
  },
  {
   "cell_type": "code",
   "execution_count": 3,
   "id": "c05f62f5",
   "metadata": {},
   "outputs": [],
   "source": [
    "# Get a time axis\n",
    "t = np.linspace(0, 1.9, 200)\n",
    "\n",
    "#print(t)"
   ]
  },
  {
   "cell_type": "code",
   "execution_count": 4,
   "id": "402b7aaa",
   "metadata": {},
   "outputs": [
    {
     "name": "stdout",
     "output_type": "stream",
     "text": [
      "Shape of output array:  (200, 3)\n"
     ]
    }
   ],
   "source": [
    "# Calculate the orbit position at the given points\n",
    "# in a Cartesian coordinate system.\n",
    "pos = ke.xyzPos(t)\n",
    "print(\"Shape of output array: \", pos.shape)"
   ]
  },
  {
   "cell_type": "code",
   "execution_count": 5,
   "id": "54fbe1e8",
   "metadata": {},
   "outputs": [
    {
     "name": "stdout",
     "output_type": "stream",
     "text": [
      "x, y, z for 50th point:  [ 1.12522122 -1.03334057 -0.24875952]\n"
     ]
    }
   ],
   "source": [
    "# x, y, and z coordinates for 50th time point\n",
    "print(\"x, y, z for 50th point: \", pos[50, ::])"
   ]
  },
  {
   "cell_type": "code",
   "execution_count": 6,
   "id": "b7b20cfd",
   "metadata": {},
   "outputs": [],
   "source": [
    "# Calculate orbit radius as a function of the\n",
    "radius = ke.radius(t)\n",
    "#print(radius)"
   ]
  },
  {
   "cell_type": "code",
   "execution_count": 7,
   "id": "957e1aa3",
   "metadata": {},
   "outputs": [],
   "source": [
    "# Calculate velocity on orbit\n",
    "vel = ke.xyzVel(t)"
   ]
  },
  {
   "cell_type": "code",
   "execution_count": 9,
   "id": "4c07f7a4",
   "metadata": {},
   "outputs": [],
   "source": [
    "# Find the nodes of the orbit (Observer at -z)\n",
    "ascn, descn = ke.xyzNodes_LOSZ()"
   ]
  },
  {
   "cell_type": "code",
   "execution_count": 10,
   "id": "2515a032",
   "metadata": {},
   "outputs": [
    {
     "data": {
      "image/png": "[encoded data removed]",
      "text/plain": [
       "<Figure size 432x288 with 2 Axes>"
      ]
     },
     "metadata": {
      "needs_background": "light"
     },
     "output_type": "display_data"
    }
   ],
   "source": [
    "# Plot x and y coordinates of the orbit\n",
    "plt.subplot(2, 1, 1)\n",
    "plt.title(\"Periapsis (red diamond), Asc. node (green circle), desc. node (red circle)\")\n",
    "plt.xlabel(\"East ->\")\n",
    "plt.ylabel(\"North ->\")\n",
    "plt.plot([0], [0], 'k+', markersize=9)\n",
    "plt.plot(pos[::, 1], pos[::, 0], 'bp')\n",
    "# Point of periapsis\n",
    "plt.plot([pos[0, 1]], [pos[0, 0]], 'rd')\n",
    "# Nodes of the orbit\n",
    "plt.plot([ascn[1]], [ascn[0]], 'go', markersize=10)\n",
    "plt.plot([descn[1]], [descn[0]], 'ro', markersize=10)\n",
    "# Plot RV\n",
    "plt.subplot(2, 1, 2)\n",
    "plt.xlabel(\"Time\")\n",
    "plt.ylabel(\"Radial velocity [length/time]\")\n",
    "plt.plot(t, vel[::, 2], 'r.-')\n",
    "plt.show()"
   ]
  },
  {
   "cell_type": "code",
   "execution_count": null,
   "id": "4d6db496",
   "metadata": {},
   "outputs": [],
   "source": []
  }
 ],
 "metadata": {
  "kernelspec": {
   "display_name": "Python 3 (ipykernel)",
   "language": "python",
   "name": "python3"
  },
  "language_info": {
   "codemirror_mode": {
    "name": "ipython",
    "version": 3
   },
   "file_extension": ".py",
   "mimetype": "text/x-python",
   "name": "python",
   "nbconvert_exporter": "python",
   "pygments_lexer": "ipython3",
   "version": "3.9.7"
  }
 },
 "nbformat": 4,
 "nbformat_minor": 5
}
